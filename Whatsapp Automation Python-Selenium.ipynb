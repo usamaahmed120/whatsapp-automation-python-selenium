{
 "cells": [
  {
   "cell_type": "code",
   "execution_count": 4,
   "metadata": {},
   "outputs": [],
   "source": [
    "from selenium import webdriver\n",
    "from selenium.webdriver.common.by import By\n",
    "from selenium.webdriver.chrome.service import Service\n",
    "from selenium.webdriver.common.keys import Keys"
   ]
  },
  {
   "cell_type": "code",
   "execution_count": 9,
   "metadata": {},
   "outputs": [
    {
     "ename": "NameError",
     "evalue": "name 'Print' is not defined",
     "output_type": "error",
     "traceback": [
      "\u001b[1;31m---------------------------------------------------------------------------\u001b[0m",
      "\u001b[1;31mNameError\u001b[0m                                 Traceback (most recent call last)",
      "Cell \u001b[1;32mIn[9], line 20\u001b[0m\n\u001b[0;32m     17\u001b[0m     msg_box\u001b[39m.\u001b[39msend_keys(text)\n\u001b[0;32m     18\u001b[0m     msg_box\u001b[39m.\u001b[39msend_keys(Keys\u001b[39m.\u001b[39mENTER)\n\u001b[1;32m---> 20\u001b[0m Print(\u001b[39mf\u001b[39m\u001b[39m\"\u001b[39m\u001b[39mMessage Send Successfully - Msgs Count: \u001b[39m\u001b[39m{\u001b[39;00mloop\u001b[39m}\u001b[39;00m\u001b[39m\"\u001b[39m)\n",
      "\u001b[1;31mNameError\u001b[0m: name 'Print' is not defined"
     ]
    }
   ],
   "source": [
    "ser_obj = Service('./msedgedriver.exe')\n",
    "driver = webdriver.Edge(service=ser_obj)\n",
    "driver.get('https://web.whatsapp.com/')\n",
    "input(\"Scan the QR code and press Enter after successful login.\")\n",
    "\n",
    "name = input(\"Enter Person Name whom you want to send message\")\n",
    "text = input(\"what you wan to send\")\n",
    "loop = int(input(\"Type numbe how many time yow want to send message\"))\n",
    "\n",
    "\n",
    "for i in range(loop):\n",
    "    search_box = driver.find_element(By.XPATH, '//*[@id=\"side\"]/div[1]/div/div/div[2]/div/div[1]')\n",
    "    search_box.send_keys(name)\n",
    "    search_box.send_keys(Keys.ENTER)\n",
    "\n",
    "    msg_box = driver.find_element(By.XPATH, '//*[@id=\"main\"]/footer/div[1]/div/span[2]/div/div[2]/div[1]/div/div[1]')\n",
    "    msg_box.send_keys(text)\n",
    "    msg_box.send_keys(Keys.ENTER)\n",
    "\n",
    "print(f\"Message Send Successfully - Msgs Count: {loop}\")"
   ]
  }
 ],
 "metadata": {
  "kernelspec": {
   "display_name": "Python 3",
   "language": "python",
   "name": "python3"
  },
  "language_info": {
   "codemirror_mode": {
    "name": "ipython",
    "version": 3
   },
   "file_extension": ".py",
   "mimetype": "text/x-python",
   "name": "python",
   "nbconvert_exporter": "python",
   "pygments_lexer": "ipython3",
   "version": "3.11.2"
  },
  "orig_nbformat": 4
 },
 "nbformat": 4,
 "nbformat_minor": 2
}
